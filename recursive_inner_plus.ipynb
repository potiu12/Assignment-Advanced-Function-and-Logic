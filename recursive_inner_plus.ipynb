{
 "cells": [
  {
   "cell_type": "code",
   "execution_count": 9,
   "id": "a2643442-0074-4995-b5f0-bfe99b70a7e6",
   "metadata": {},
   "outputs": [
    {
     "name": "stdout",
     "output_type": "stream",
     "text": [
      "[9, 10]\n"
     ]
    }
   ],
   "source": [
    "input= [1, 2, 3, 4, [5, 6, 7, [8, 9]]]\n",
    "\n",
    "def innerplus1r(input):\n",
    "    list1 = input\n",
    "    if isinstance(list1[-1], list):  \n",
    "        list1 = list1[-1]  # Access the inner list\n",
    "        return innerplus1r(list1)  #checks if there are more inner lists (calls the function innerplus1r) until there are no more lists, then it returns the last list. \n",
    "    else:\n",
    "        return [x + 1 for x in list1]\n",
    "\n",
    "output = innerplus1r(input)\n",
    "print(output)"
   ]
  },
  {
   "cell_type": "code",
   "execution_count": null,
   "id": "d98e9ad3-d3b3-4b12-850f-69611a6b07fd",
   "metadata": {},
   "outputs": [],
   "source": []
  }
 ],
 "metadata": {
  "kernelspec": {
   "display_name": "Python 3 (ipykernel)",
   "language": "python",
   "name": "python3"
  },
  "language_info": {
   "codemirror_mode": {
    "name": "ipython",
    "version": 3
   },
   "file_extension": ".py",
   "mimetype": "text/x-python",
   "name": "python",
   "nbconvert_exporter": "python",
   "pygments_lexer": "ipython3",
   "version": "3.12.4"
  }
 },
 "nbformat": 4,
 "nbformat_minor": 5
}
