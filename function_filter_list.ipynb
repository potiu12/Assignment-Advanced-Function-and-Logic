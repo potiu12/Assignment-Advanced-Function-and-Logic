{
 "cells": [
  {
   "cell_type": "code",
   "execution_count": 6,
   "id": "04e27918-1a3e-4931-b1bf-f384b3a1cb23",
   "metadata": {},
   "outputs": [
    {
     "name": "stdout",
     "output_type": "stream",
     "text": [
      "[1, 2, 3, 4, 5, 6]\n"
     ]
    }
   ],
   "source": [
    "input = [1, 2, 3, 4, 5, 6, 7, 8, 9]\n",
    "threshold = 6\n",
    "\n",
    "def filter(input, threshold):\n",
    "    return [x for x in input if x <= threshold] #This is a loop that goes through each element x in the input and ensures only those elements x that are less than or equal to threshold are included in the new list.\n",
    "output = filter(input, threshold)\n",
    "print(output) "
   ]
  },
  {
   "cell_type": "code",
   "execution_count": null,
   "id": "83b293cd-4c0c-4f45-b2d8-79c74a127c84",
   "metadata": {},
   "outputs": [],
   "source": []
  },
  {
   "cell_type": "code",
   "execution_count": null,
   "id": "dca09681-acab-4773-a16b-a9a0db40f9cf",
   "metadata": {},
   "outputs": [],
   "source": []
  }
 ],
 "metadata": {
  "kernelspec": {
   "display_name": "Python 3 (ipykernel)",
   "language": "python",
   "name": "python3"
  },
  "language_info": {
   "codemirror_mode": {
    "name": "ipython",
    "version": 3
   },
   "file_extension": ".py",
   "mimetype": "text/x-python",
   "name": "python",
   "nbconvert_exporter": "python",
   "pygments_lexer": "ipython3",
   "version": "3.12.4"
  }
 },
 "nbformat": 4,
 "nbformat_minor": 5
}
