{
 "cells": [
  {
   "cell_type": "code",
   "execution_count": 7,
   "id": "a806bb28-37f5-4660-ba39-94f932c56c72",
   "metadata": {},
   "outputs": [
    {
     "name": "stdout",
     "output_type": "stream",
     "text": [
      "[9, 10]\n"
     ]
    }
   ],
   "source": [
    "input = [1, 2, 3, 4, [5, 6, 7, [8, 9]]]\n",
    "\n",
    "def innerplus1(input):\n",
    "    list1 = input\n",
    "    \n",
    "    while type(list1[-1]) == list:\n",
    "        list1 = list1[-1]\n",
    "    \n",
    "    return [x + 1 for x in list1]\n",
    "\n",
    "output = innerplus1(input)\n",
    "print(output) "
   ]
  },
  {
   "cell_type": "code",
   "execution_count": null,
   "id": "a6da215b-5a67-4f88-bf9f-ae1d58e57f66",
   "metadata": {},
   "outputs": [],
   "source": []
  }
 ],
 "metadata": {
  "kernelspec": {
   "display_name": "Python 3 (ipykernel)",
   "language": "python",
   "name": "python3"
  },
  "language_info": {
   "codemirror_mode": {
    "name": "ipython",
    "version": 3
   },
   "file_extension": ".py",
   "mimetype": "text/x-python",
   "name": "python",
   "nbconvert_exporter": "python",
   "pygments_lexer": "ipython3",
   "version": "3.12.4"
  }
 },
 "nbformat": 4,
 "nbformat_minor": 5
}
